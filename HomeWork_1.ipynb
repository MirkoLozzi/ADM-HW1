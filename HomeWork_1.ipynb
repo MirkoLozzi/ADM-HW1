{
 "cells": [
  {
   "cell_type": "markdown",
   "metadata": {
    "id": "62ZdhzKX6OwF"
   },
   "source": [
    "# Introduction\n"
   ]
  },
  {
   "cell_type": "markdown",
   "metadata": {
    "id": "JXFK2Vf96OwM"
   },
   "source": [
    "#### Say \"Hello, World!\" With Python"
   ]
  },
  {
   "cell_type": "code",
   "execution_count": null,
   "metadata": {
    "id": "LqGjUbcH6OwP"
   },
   "outputs": [],
   "source": [
    "print('Hello, World!')"
   ]
  },
  {
   "cell_type": "markdown",
   "metadata": {
    "id": "yQWWAjhn6Owd"
   },
   "source": [
    "#### Python If-Else"
   ]
  },
  {
   "cell_type": "code",
   "execution_count": null,
   "metadata": {
    "id": "bawHaCMT6Owf"
   },
   "outputs": [],
   "source": [
    "if __name__ == '__main__':\n",
    "    n = int(input().strip())\n",
    "\n",
    "    if n % 2 != 0:\n",
    "        print('Weird')\n",
    "    elif n % 2 == 0 and 2 <= n <= 5:\n",
    "        print('Not Weird')\n",
    "    elif n % 2 == 0 and 6 <= n <= 20:\n",
    "        print('Weird')\n",
    "    elif n % 2 == 0 and n > 20:\n",
    "        print('Not Weird')"
   ]
  },
  {
   "cell_type": "markdown",
   "metadata": {
    "id": "Zuu04mTO_FUA"
   },
   "source": [
    "#### Arithmetic Operators\n"
   ]
  },
  {
   "cell_type": "code",
   "execution_count": null,
   "metadata": {
    "id": "sZ8RiAf2_E_K"
   },
   "outputs": [],
   "source": [
    "if __name__ == '__main__':\n",
    "    a = int(input())\n",
    "    b = int(input())\n",
    "\n",
    "    print(a+b)\n",
    "    print(a-b)\n",
    "    print(a*b)"
   ]
  },
  {
   "cell_type": "markdown",
   "metadata": {
    "id": "S8shqx3AO596"
   },
   "source": [
    "#### Python: Division\n"
   ]
  },
  {
   "cell_type": "code",
   "execution_count": null,
   "metadata": {
    "id": "9-RL77n0MNCd"
   },
   "outputs": [],
   "source": [
    "if __name__ == '__main__':\n",
    "    a = int(input())\n",
    "    b = int(input())\n",
    "\n",
    "    print(a//b)\n",
    "    print(a/b)"
   ]
  },
  {
   "cell_type": "markdown",
   "metadata": {
    "id": "4Dlv5bjzPAlY"
   },
   "source": [
    "#### Loops\n"
   ]
  },
  {
   "cell_type": "code",
   "execution_count": null,
   "metadata": {
    "id": "9XQFP-EKPBEg"
   },
   "outputs": [],
   "source": [
    "if __name__ == '__main__':\n",
    "    n = int(input())\n",
    "\n",
    "    for i in range(n):\n",
    "        print(i**2)"
   ]
  },
  {
   "cell_type": "markdown",
   "metadata": {
    "id": "_tqHIj3hPh7-"
   },
   "source": [
    "#### Write a function\n"
   ]
  },
  {
   "cell_type": "code",
   "execution_count": null,
   "metadata": {
    "id": "qsk6ponYPiM-"
   },
   "outputs": [],
   "source": [
    "def is_leap(year):\n",
    "    leap = False\n",
    "    \n",
    "    if year % 4 == 0:\n",
    "        leap = True\n",
    "        if year % 100 == 0:\n",
    "            leap = False\n",
    "            if year % 400 == 0:\n",
    "                leap = True\n",
    "    \n",
    "    return leap\n",
    "\n",
    "year = int(input())\n",
    "print(is_leap(year))"
   ]
  },
  {
   "cell_type": "markdown",
   "metadata": {
    "id": "SDVrgbYEQxs9"
   },
   "source": [
    "#### Print Function"
   ]
  },
  {
   "cell_type": "code",
   "execution_count": null,
   "metadata": {
    "id": "E_EH4yq8QyC1"
   },
   "outputs": [],
   "source": [
    "if __name__ == '__main__':\n",
    "    n = int(input())\n",
    "\n",
    "    for i in range(1, n+1):\n",
    "        print(i, end = '')"
   ]
  },
  {
   "cell_type": "markdown",
   "metadata": {
    "id": "5aUdkfsjSUB0"
   },
   "source": [
    "# Data types"
   ]
  },
  {
   "cell_type": "markdown",
   "metadata": {
    "id": "B6VjwXsnSUrk"
   },
   "source": [
    "#### List Comprehensions"
   ]
  },
  {
   "cell_type": "code",
   "execution_count": null,
   "metadata": {
    "id": "gQAb2VHfSvIs"
   },
   "outputs": [],
   "source": [
    "if __name__ == '__main__':\n",
    "    x = int(input())\n",
    "    y = int(input())\n",
    "    z = int(input())\n",
    "    n = int(input())\n",
    "\n",
    "    print([[i, j, k] for i in range(x+1) for j in range(y+1)for k in range(z+1) if i+j+k != n])"
   ]
  },
  {
   "cell_type": "markdown",
   "metadata": {
    "id": "BXWfb-YvV8NK"
   },
   "source": [
    "#### Find the Runner-Up Score!"
   ]
  },
  {
   "cell_type": "code",
   "execution_count": null,
   "metadata": {
    "id": "cAjcRK0IT5kb"
   },
   "outputs": [],
   "source": [
    "if __name__ == '__main__':\n",
    "    n = int(input())\n",
    "    arr = map(int, input().split())\n",
    "\n",
    "    first = -100\n",
    "    secon = -100\n",
    "\n",
    "    for el in arr:\n",
    "        if first < el:\n",
    "            second = first\n",
    "            first = el\n",
    "        if second < el and first != el:\n",
    "            second = el\n",
    "    print(second)"
   ]
  },
  {
   "cell_type": "markdown",
   "metadata": {
    "id": "c1zuCKorWENQ"
   },
   "source": [
    "#### Nested Lists"
   ]
  },
  {
   "cell_type": "code",
   "execution_count": null,
   "metadata": {
    "id": "PGAUCYykWEeA"
   },
   "outputs": [],
   "source": [
    "if __name__ == '__main__':\n",
    "    records = []\n",
    "    minimum = float(\"inf\")\n",
    "    second = float (\"inf\")\n",
    "    for _ in range(int(input())):\n",
    "        name = input()\n",
    "        score = float(input())\n",
    "        records.append([name, score])\n",
    "        if minimum > score:\n",
    "            second = minimum\n",
    "            minimum = score\n",
    "        if second > score and minimum != score:\n",
    "            second = score\n",
    "    List = []\n",
    "    for i in range(len(records)):\n",
    "        if records[i][1] == second:\n",
    "            List.append(records[i][0])\n",
    "    List.sort()\n",
    "\n",
    "    for name in List:\n",
    "        print(name)"
   ]
  },
  {
   "cell_type": "markdown",
   "metadata": {
    "id": "-0irh2q5gYm3"
   },
   "source": [
    "#### Finding the percentage"
   ]
  },
  {
   "cell_type": "code",
   "execution_count": null,
   "metadata": {
    "id": "VYnY4mbqgY1f"
   },
   "outputs": [],
   "source": [
    "if __name__ == '__main__':\n",
    "    n = int(input())\n",
    "    student_marks = {}\n",
    "    for _ in range(n):\n",
    "        name, *line = input().split()\n",
    "        scores = list(map(float, line))\n",
    "        student_marks[name] = scores\n",
    "    query_name = input()\n",
    "\n",
    "    count = 0.\n",
    "\n",
    "    for score in student_marks[query_name]:\n",
    "        count = count + float(score)\n",
    "\n",
    "    print(\"{:.2f}\".format(count/float(len(student_marks[query_name]))))"
   ]
  },
  {
   "cell_type": "markdown",
   "metadata": {
    "id": "vHB5LFCtn38X"
   },
   "source": [
    "#### Lists"
   ]
  },
  {
   "cell_type": "code",
   "execution_count": null,
   "metadata": {
    "id": "uoSheXqRmPzw"
   },
   "outputs": [],
   "source": [
    "if __name__ == '__main__':\n",
    "    array = []\n",
    "    N = int(input())\n",
    "    for _ in range(N):\n",
    "        comand, *line = input().split()\n",
    "        List = list(map(int, line))\n",
    "        if comand == \"insert\":\n",
    "            array.insert(List[0], List[1])\n",
    "        elif comand == \"print\":\n",
    "            print(array)\n",
    "        elif comand == \"remove\":\n",
    "            array.remove(List[0])\n",
    "        elif comand == \"append\":\n",
    "            array.append(List[0])\n",
    "        elif comand == \"sort\":\n",
    "            array.sort()\n",
    "        elif comand == \"pop\":\n",
    "            array = array[:-1]\n",
    "        elif comand == \"reverse\":\n",
    "            array = array[::-1]"
   ]
  },
  {
   "cell_type": "markdown",
   "metadata": {
    "id": "7RA6_6HRXYWw"
   },
   "source": [
    "#### Tuple"
   ]
  },
  {
   "cell_type": "code",
   "execution_count": null,
   "metadata": {
    "id": "-y15HUwqBHrj"
   },
   "outputs": [],
   "source": [
    "if __name__ == '__main__':\n",
    "    n = int(input())\n",
    "    integer_list = tuple(map(int, input().split()))\n",
    "    print(hash(integer_list))"
   ]
  },
  {
   "cell_type": "markdown",
   "metadata": {
    "id": "HXJi9uruc_Pr"
   },
   "source": [
    "# Strings"
   ]
  },
  {
   "cell_type": "markdown",
   "metadata": {
    "id": "p3Nbw1bhEqHU"
   },
   "source": [
    "#### sWAP cASE\n"
   ]
  },
  {
   "cell_type": "code",
   "execution_count": null,
   "metadata": {
    "id": "h_ge1rKKEpxE"
   },
   "outputs": [],
   "source": [
    "def swap_case(s):\n",
    "    return s.swapcase()\n",
    "\n",
    "if __name__ == '__main__':\n",
    "    s = input()\n",
    "    result = swap_case(s)\n",
    "    print(result)"
   ]
  },
  {
   "cell_type": "markdown",
   "metadata": {
    "id": "BOlyTfqgEqf7"
   },
   "source": [
    "#### String Split and Join"
   ]
  },
  {
   "cell_type": "code",
   "execution_count": null,
   "metadata": {
    "id": "Nd_FUQDAWpCH"
   },
   "outputs": [],
   "source": [
    "def split_and_join(line):\n",
    "    return \"-\".join(line.split(\" \"))\n",
    "\n",
    "if __name__ == '__main__':\n",
    "    line = input()\n",
    "    result = split_and_join(line)\n",
    "    print(result)"
   ]
  },
  {
   "cell_type": "markdown",
   "metadata": {
    "id": "ghdVdWZ2Gp3z"
   },
   "source": [
    "#### What's Your Name?\n"
   ]
  },
  {
   "cell_type": "code",
   "execution_count": null,
   "metadata": {
    "id": "SWkoH96OGqNz"
   },
   "outputs": [],
   "source": [
    "def print_full_name(a, b):\n",
    "    print(\"Hello\", a, b + \"! You just delved into python.\")\n",
    "\n",
    "if __name__ == '__main__':\n",
    "    first_name = input()\n",
    "    last_name = input()\n",
    "    print_full_name(first_name, last_name)"
   ]
  },
  {
   "cell_type": "markdown",
   "metadata": {
    "id": "CWYZ116MIoRZ"
   },
   "source": [
    "#### Mutations"
   ]
  },
  {
   "cell_type": "code",
   "execution_count": null,
   "metadata": {
    "id": "gQGuP3FLIoj3"
   },
   "outputs": [],
   "source": [
    "def mutate_string(string, position, character):\n",
    "    return string[:position] + character + string[position+1:]\n",
    "\n",
    "if __name__ == '__main__':\n",
    "    s = input()\n",
    "    i, c = input().split()\n",
    "    s_new = mutate_string(s, int(i), c)\n",
    "    print(s_new)"
   ]
  },
  {
   "cell_type": "markdown",
   "metadata": {
    "id": "ggMWkR90MpjV"
   },
   "source": [
    "#### Find a string\n"
   ]
  },
  {
   "cell_type": "code",
   "execution_count": null,
   "metadata": {
    "id": "4spq_5UyMp27"
   },
   "outputs": [],
   "source": [
    "def count_substring(string, sub_string):\n",
    "    N = len(sub_string)\n",
    "    count = 0\n",
    "    for i in range(len(string)-N+1):\n",
    "        print(string[i: i+N])\n",
    "        if string[i: i+N] == sub_string:\n",
    "            count = count + 1\n",
    "    return count\n",
    "\n",
    "if __name__ == '__main__':\n",
    "    string = input().strip()\n",
    "    sub_string = input().strip()\n",
    "    \n",
    "    count = count_substring(string, sub_string)\n",
    "    print(count)"
   ]
  },
  {
   "cell_type": "markdown",
   "metadata": {
    "id": "xzUYuSbQxQi3"
   },
   "source": [
    "#### String Validators\n"
   ]
  },
  {
   "cell_type": "code",
   "execution_count": null,
   "metadata": {
    "id": "OPm-8FgRMqmd"
   },
   "outputs": [],
   "source": [
    "def alnum(chr):\n",
    "    return chr.isalnum()\n",
    "def alph(chr):\n",
    "    return chr.isalpha()\n",
    "def digit(chr):\n",
    "    return chr.isdigit()\n",
    "def lower(chr):\n",
    "    return chr.islower()\n",
    "def upper(chr):\n",
    "    return chr.isupper()\n",
    "\n",
    "if __name__ == '__main__':\n",
    "    s = input()\n",
    "\n",
    "    print(any(list(map(alnum, s))))\n",
    "    print(any(list(map(alph, s))))\n",
    "    print(any(list(map(digit, s))))\n",
    "    print(any(list(map(lower, s))))\n",
    "    print(any(list(map(upper, s))))"
   ]
  },
  {
   "cell_type": "markdown",
   "metadata": {
    "id": "p8el26IWSIvb"
   },
   "source": [
    "#### Text Alignment\n"
   ]
  },
  {
   "cell_type": "code",
   "execution_count": null,
   "metadata": {
    "id": "wLoVaixoxWKq"
   },
   "outputs": [],
   "source": [
    "#Replace all ______ with rjust, ljust or center. \n",
    "\n",
    "thickness = int(input()) #This must be an odd number\n",
    "c = 'H'\n",
    "\n",
    "#Top Cone\n",
    "for i in range(thickness):\n",
    "    print((c*i).rjust(thickness-1)+c+(c*i).ljust(thickness-1))\n",
    "\n",
    "#Top Pillars\n",
    "for i in range(thickness+1):\n",
    "    print((c*thickness).center(thickness*2)+(c*thickness).center(thickness*6))\n",
    "\n",
    "#Middle Belt\n",
    "for i in range((thickness+1)//2):\n",
    "    print((c*thickness*5).center(thickness*6))    \n",
    "\n",
    "#Bottom Pillars\n",
    "for i in range(thickness+1):\n",
    "    print((c*thickness).center(thickness*2)+(c*thickness).center(thickness*6))    \n",
    "\n",
    "#Bottom Cone\n",
    "for i in range(thickness):\n",
    "    print(((c*(thickness-i-1)).rjust(thickness)+c+(c*(thickness-i-1)).ljust(thickness)).rjust(thickness*6))"
   ]
  },
  {
   "cell_type": "markdown",
   "metadata": {
    "id": "UbB4200PSJ8i"
   },
   "source": [
    "#### Text Wrap\n"
   ]
  },
  {
   "cell_type": "code",
   "execution_count": null,
   "metadata": {
    "id": "p-uik2JUQuPy"
   },
   "outputs": [],
   "source": [
    "import textwrap\n",
    "\n",
    "def wrap(string, max_width):\n",
    "    array = textwrap.wrap(string, width=max_width)\n",
    "    string = array[0]\n",
    "    for element in array[1:]:\n",
    "        string = string + \"\\n\" + element\n",
    "\n",
    "    return string\n",
    "\n",
    "if __name__ == '__main__':\n",
    "    string, max_width = input(), int(input())\n",
    "    result = wrap(string, max_width)\n",
    "    print(result)"
   ]
  },
  {
   "cell_type": "markdown",
   "metadata": {
    "id": "E4Q-8Awpdr73"
   },
   "source": [
    "#### Designer Door Mat\n"
   ]
  },
  {
   "cell_type": "code",
   "execution_count": null,
   "metadata": {
    "id": "TkdJ2dKjai94"
   },
   "outputs": [],
   "source": [
    "N, M  = input().split()\n",
    "N = int(N)\n",
    "M = int(M)\n",
    "\n",
    "for i in range(int((N-1)/2)):\n",
    "  print(\"-\"*(int((M-1)/2)-1-3*i) + \".|.\"*i + \".|.\" + \".|.\"*i + \"-\"*(int((M-1)/2)-1-3*i))\n",
    "\n",
    "print(\"-\"*(int((M-1)/2)-3) + \"WELCOME\" + \"-\"*(int((M-1)/2)-3))\n",
    "\n",
    "for i in range(int((N-1)/2)):\n",
    "  print(\"-\"*(int((M-1)/2)-1-3*(int((N-1)/2)-1-i)) + \".|.\"*(int((N-1)/2)-1-i) + \".|.\" + \".|.\"*(int((N-1)/2)-1-i) + \"-\"*(int((M-1)/2)-1-3*(int((N-1)/2)-1-i)))"
   ]
  },
  {
   "cell_type": "markdown",
   "metadata": {
    "id": "wBC2TscDnObV"
   },
   "source": [
    "#### String Formatting\n"
   ]
  },
  {
   "cell_type": "code",
   "execution_count": null,
   "metadata": {
    "id": "oA_y3Axif3h9"
   },
   "outputs": [],
   "source": [
    "def print_formatted(number):\n",
    "    N = len(bin(number)[2:]) + 1\n",
    "\n",
    "    for i in range(1, number+1):\n",
    "        print(str(i).rjust(N-1) + oct(i)[2:].rjust(N) + hex(i)[2:].upper().rjust(N) + bin(i)[2:].rjust(N))\n",
    "\n",
    "if __name__ == '__main__':\n",
    "    n = int(input())\n",
    "    print_formatted(n)"
   ]
  },
  {
   "cell_type": "markdown",
   "metadata": {
    "id": "Mh8yprCEwpvo"
   },
   "source": [
    "#### Capitalize!"
   ]
  },
  {
   "cell_type": "code",
   "execution_count": null,
   "metadata": {
    "id": "RxS2wWkFpABT"
   },
   "outputs": [],
   "source": [
    "#!/bin/python3\n",
    "\n",
    "import math\n",
    "import os\n",
    "import random\n",
    "import re\n",
    "import sys\n",
    "\n",
    "# Complete the solve function below.\n",
    "def solve(s):\n",
    "    \n",
    "    for i in range(1, len(s) -1 ):\n",
    "      if s[i-1] == ' ':\n",
    "        s = s[:i] + s[i].upper() + s[i+1:]\n",
    "\n",
    "    s= s[0].upper() + s[1:]\n",
    "    if s[-2] == ' ':\n",
    "      s = s[:-1] +s[-1].upper()    \n",
    "    return s\n",
    "\n",
    "if __name__ == '__main__':\n",
    "    fptr = open(os.environ['OUTPUT_PATH'], 'w')\n",
    "\n",
    "    s = input()\n",
    "\n",
    "    result = solve(s)\n",
    "\n",
    "    fptr.write(result + '\\n')\n",
    "\n",
    "    fptr.close()"
   ]
  },
  {
   "cell_type": "markdown",
   "metadata": {
    "id": "mYuE0EQYzjZz"
   },
   "source": [
    "#### The Minion Game\n"
   ]
  },
  {
   "cell_type": "code",
   "execution_count": null,
   "metadata": {
    "id": "yyrcIEW0Ak00"
   },
   "outputs": [],
   "source": [
    "def minion_game(string):\n",
    "    stuart = 0\n",
    "    kevin = 0\n",
    "    for i in range(len(string)):\n",
    "        if s[i] in \"AEIOU\":\n",
    "            kevin = kevin + len(string) - i\n",
    "        else:\n",
    "            stuart = stuart + len(string) - i\n",
    "        \n",
    "    if stuart < kevin:\n",
    "        print(\"Kevin \" + str(kevin))\n",
    "    elif stuart > kevin:\n",
    "        print(\"Stuart \" + str(stuart))\n",
    "    else:\n",
    "        print(\"Draw\")\n",
    "\n",
    "    return stuart, kevin\n",
    " \n",
    "\n",
    "if __name__ == '__main__':\n",
    "    s = input()\n",
    "    stuar, kevin = minion_game(s)\n",
    "    print(stuar, kevin)"
   ]
  },
  {
   "cell_type": "markdown",
   "metadata": {
    "id": "JuqaPv1nDTFX"
   },
   "source": [
    "#### Merge the Tools!"
   ]
  },
  {
   "cell_type": "code",
   "execution_count": null,
   "metadata": {
    "id": "CDrc2ViLAlhL"
   },
   "outputs": [],
   "source": [
    "def merge_the_tools(string, k):\n",
    "    for i in range(int(len(string)/k)):\n",
    "      seq = ''\n",
    "      for lect in string[k*i:k*(i+1)]:\n",
    "        if lect not in seq:\n",
    "          seq = seq +lect\n",
    "      print(seq)\n",
    "\n",
    "if __name__ == '__main__':\n",
    "    string, k = input(), int(input())\n",
    "    merge_the_tools(string, k)"
   ]
  },
  {
   "cell_type": "markdown",
   "metadata": {
    "id": "go9F4zvSVrwu"
   },
   "source": [
    "#### Alphabet Rangoli\n"
   ]
  },
  {
   "cell_type": "code",
   "execution_count": null,
   "metadata": {
    "id": "Y7GxjTQEX9os"
   },
   "outputs": [],
   "source": [
    "def print_rangoli(size):\n",
    "    alphabet = ['a', 'b', 'c', 'd', 'e', 'f', 'g', 'h', 'i', 'j', 'k', 'l', 'm', 'n', 'o', 'p', 'q', 'r', 's', 't', 'u', 'v', 'w', 'x', 'y', 'z']\n",
    "\n",
    "    for i in range(size):\n",
    "      lt = alphabet[size-i:size][::-1] + alphabet[size-1-i:size]\n",
    "      print(\"-\"*((size-1-i)*2) + \"-\".join(lt) + \"-\"*((size-1-i)*2))\n",
    "\n",
    "    for i in range(size-1):\n",
    "      lt = alphabet[i+1:size][::-1] + alphabet[i+2:size]\n",
    "      print(\"-\"*((i+1)*2) + \"-\".join(lt) + \"-\"*((i+1)*2))\n",
    "\n",
    "\n",
    "if __name__ == '__main__':\n",
    "    n = int(input())\n",
    "    print_rangoli(n)"
   ]
  },
  {
   "cell_type": "markdown",
   "metadata": {
    "id": "zgvQJvKTXB_C"
   },
   "source": [
    "# Sets"
   ]
  },
  {
   "cell_type": "markdown",
   "metadata": {
    "id": "TnN4cY9WXDno"
   },
   "source": [
    "#### Introduction to Sets"
   ]
  },
  {
   "cell_type": "code",
   "execution_count": null,
   "metadata": {
    "id": "n9E9FDWWV4lg"
   },
   "outputs": [],
   "source": [
    "def average(array):\n",
    "    return sum(set(array))/len(set(array))\n",
    "\n",
    "if __name__ == '__main__':\n",
    "    n = int(input())\n",
    "    arr = list(map(int, input().split()))\n",
    "    result = average(arr)\n",
    "    print(result)"
   ]
  },
  {
   "cell_type": "markdown",
   "metadata": {
    "id": "WBrXtvPXY-mD"
   },
   "source": [
    "#### No Idea!\n"
   ]
  },
  {
   "cell_type": "code",
   "execution_count": null,
   "metadata": {
    "id": "zUBp0MAbYH8X"
   },
   "outputs": [],
   "source": [
    "if __name__ == '__main__':\n",
    "    n, m = map(int, input().split())\n",
    "    lst = list(map(int, input().split()))\n",
    "    set_1 = set(map(int, input().split()))\n",
    "    set_2 = set(map(int, input().split()))\n",
    "    \n",
    "    happiness = 0\n",
    "\n",
    "    for el in lst:\n",
    "      if el in set_1:\n",
    "        happiness = happiness + 1\n",
    "      elif el in set_2:\n",
    "        happiness = happiness - 1\n",
    "\n",
    "    print(happiness)"
   ]
  },
  {
   "cell_type": "markdown",
   "metadata": {
    "id": "h5x2YRYdoVVF"
   },
   "source": [
    "#### Symmetric Difference\n"
   ]
  },
  {
   "cell_type": "code",
   "execution_count": null,
   "metadata": {
    "id": "EqqkIxx-g2cU"
   },
   "outputs": [],
   "source": [
    "if __name__ == '__main__':\n",
    "  n = int(input())\n",
    "  set_1 = set(map(int, input().split()))\n",
    "  m = int(input())\n",
    "  set_2 = set(map(int, input().split()))\n",
    "\n",
    "  s1 = set_1.difference(set_2)\n",
    "  s2 = set_2.difference(set_1)\n",
    "  s3 = s1.union(s2)\n",
    "  lst = list(s3)\n",
    "  lst.sort()\n",
    "  for el in lst:\n",
    "    print(el)"
   ]
  },
  {
   "cell_type": "markdown",
   "metadata": {
    "id": "XXpfXxPfyLbV"
   },
   "source": [
    "#### Set .add()\n",
    "\n"
   ]
  },
  {
   "cell_type": "code",
   "execution_count": null,
   "metadata": {
    "id": "-IeQnQHKyL0l"
   },
   "outputs": [],
   "source": [
    "if __name__ == '__main__':\n",
    "    N = int(input())\n",
    "    s = set([])\n",
    "    for i in range(N):\n",
    "        s.add(input())\n",
    "    \n",
    "    print(len(s))"
   ]
  },
  {
   "cell_type": "markdown",
   "metadata": {
    "id": "PYv825nj1fNw"
   },
   "source": [
    "#### Set .discard(), .remove() & .pop()\n",
    "\n"
   ]
  },
  {
   "cell_type": "code",
   "execution_count": null,
   "metadata": {
    "id": "xbwR-ttC1fcu"
   },
   "outputs": [],
   "source": [
    "n = int(input())\n",
    "s = set(map(int, input().split()))\n",
    "N = int(input())\n",
    "\n",
    "for i in range(N):\n",
    "    value = input().split()\n",
    "\n",
    "    if value[0] == \"pop\":\n",
    "        s.pop()\n",
    "    if value[0] == \"remove\":\n",
    "        s.remove(int(value[1]))\n",
    "    if value[0] == \"discard\":\n",
    "        s.discard(int(value[1]))\n",
    "\n",
    "print(sum(s))"
   ]
  },
  {
   "cell_type": "markdown",
   "metadata": {
    "id": "aCJkXYa77RzI"
   },
   "source": [
    "#### Set .union() Operation\n",
    "\n"
   ]
  },
  {
   "cell_type": "code",
   "execution_count": null,
   "metadata": {
    "id": "F7s2m0BY3Yi2"
   },
   "outputs": [],
   "source": [
    "N = int(input())\n",
    "s_1 = set(map(int, input().split()))\n",
    "M = int(input())\n",
    "s_2 = set(map(int, input().split()))\n",
    "\n",
    "s = s_1.union(s_2)\n",
    "\n",
    "print(len(s))"
   ]
  },
  {
   "cell_type": "markdown",
   "metadata": {
    "id": "d1MAxqWC5T0t"
   },
   "source": [
    "#### Set .intersection() Operation\n"
   ]
  },
  {
   "cell_type": "code",
   "execution_count": null,
   "metadata": {
    "id": "lBt97PpD3cw7"
   },
   "outputs": [],
   "source": [
    "N = int(input())\n",
    "s_1 = set(map(int, input().split()))\n",
    "M = int(input())\n",
    "s_2 = set(map(int, input().split()))\n",
    "\n",
    "s = s_1.intersection(s_2)\n",
    "\n",
    "print(len(s))"
   ]
  },
  {
   "cell_type": "markdown",
   "metadata": {
    "id": "IFYX4do35vZd"
   },
   "source": [
    "#### Set .difference() Operation"
   ]
  },
  {
   "cell_type": "code",
   "execution_count": null,
   "metadata": {
    "id": "paW_iXhP3ehU"
   },
   "outputs": [],
   "source": [
    "N = int(input())\n",
    "s_1 = set(map(int, input().split()))\n",
    "M = int(input())\n",
    "s_2 = set(map(int, input().split()))\n",
    "\n",
    "s = s_1.difference(s_2)\n",
    "\n",
    "print(len(s))"
   ]
  },
  {
   "cell_type": "markdown",
   "metadata": {
    "id": "gPVrGEJB6PS1"
   },
   "source": [
    "#### Set .symmetric_difference() Operation"
   ]
  },
  {
   "cell_type": "code",
   "execution_count": null,
   "metadata": {
    "id": "OobkwetQ6ISV"
   },
   "outputs": [],
   "source": [
    "N = int(input())\n",
    "s_1 = set(map(int, input().split()))\n",
    "M = int(input())\n",
    "s_2 = set(map(int, input().split()))\n",
    "\n",
    "s = s_1.symmetric_difference(s_2)\n",
    "\n",
    "print(len(s))"
   ]
  },
  {
   "cell_type": "markdown",
   "metadata": {
    "id": "vH4xd1cy8VIn"
   },
   "source": [
    "#### Set Mutations\n"
   ]
  },
  {
   "cell_type": "code",
   "execution_count": null,
   "metadata": {
    "id": "CGSY_BTo8Vg2"
   },
   "outputs": [],
   "source": [
    "N = int(input())\n",
    "s = set(map(int, input().split()))\n",
    "M = int(input())\n",
    "\n",
    "for i in range(M):\n",
    "    operation, lenght = input().split()\n",
    "    s_1 = set(map(int, input().split()))\n",
    "    if operation == \"intersection_update\":\n",
    "        s.intersection_update(s_1)\n",
    "    if operation == \"update\":\n",
    "        s.update(s_1)\n",
    "    if operation == \"difference_update\":\n",
    "        s.difference_update(s_1)\n",
    "    if operation == \"symmetric_difference_update\":\n",
    "        s.symmetric_difference_update(s_1)\n",
    "    \n",
    "print(sum(s))"
   ]
  },
  {
   "cell_type": "markdown",
   "metadata": {
    "id": "VYev-JhpSX3h"
   },
   "source": [
    "#### The Captain's Room\n"
   ]
  },
  {
   "cell_type": "code",
   "execution_count": null,
   "metadata": {
    "id": "UM35HgJDSYLx"
   },
   "outputs": [],
   "source": [
    "N = int(input())\n",
    "lst = list(map(int, input().split()))\n",
    "\n",
    "s_1 = set([])\n",
    "s_2 = set([])\n",
    "\n",
    "for el in lst:\n",
    "    if el not in s_1:\n",
    "        s_1.add(el)\n",
    "    else:\n",
    "        s_2.add(el)\n",
    "\n",
    "s_1.symmetric_difference_update(s_2)\n",
    "print(list(s_1)[0])"
   ]
  },
  {
   "cell_type": "markdown",
   "metadata": {
    "id": "oSBHdRXBvUwh"
   },
   "source": [
    "#### Check Subset\n",
    "\n"
   ]
  },
  {
   "cell_type": "code",
   "execution_count": null,
   "metadata": {
    "id": "KT6iFF-FXwJL"
   },
   "outputs": [],
   "source": [
    "N = int(input())\n",
    "\n",
    "for i in range(N):\n",
    "    n_1 = int(input())\n",
    "    s_1= set(map(int, input().split()))\n",
    "    n_2 = int(input())\n",
    "    s_2= set(map(int, input().split()))\n",
    "\n",
    "    b = s_1.issubset(s_2)\n",
    "    print(b)"
   ]
  },
  {
   "cell_type": "markdown",
   "metadata": {
    "id": "GNpb5j3ky0dL"
   },
   "source": [
    "#### Check Strict Superset\n"
   ]
  },
  {
   "cell_type": "code",
   "execution_count": null,
   "metadata": {
    "id": "bqVCEFUVXymL"
   },
   "outputs": [],
   "source": [
    "s = set(map(int, input().split()))\n",
    "n = int(input())\n",
    "\n",
    "lst = []\n",
    "for i in range(n):\n",
    "    s_1 = set(map(int, input().split()))\n",
    "    lst.append(s_1.issubset(s))\n",
    "\n",
    "print(all(lst))"
   ]
  },
  {
   "cell_type": "markdown",
   "metadata": {
    "id": "BjiU1C4WD2-U"
   },
   "source": [
    "# Collections"
   ]
  },
  {
   "cell_type": "markdown",
   "metadata": {
    "id": "enNYH2VH6AjG"
   },
   "source": [
    "#### DefaultDict Tutorial\n"
   ]
  },
  {
   "cell_type": "code",
   "execution_count": null,
   "metadata": {
    "id": "-MDL0ZEcjiIY"
   },
   "outputs": [],
   "source": [
    "from collections import defaultdict\n",
    "d = defaultdict(list)\n",
    "n, m = map(int, input().split())\n",
    "count = 1\n",
    "for i in range(n):\n",
    "  d[input()].append(str(count))\n",
    "  count = count + 1\n",
    "for i in range(m):\n",
    "  k = input()\n",
    "  if k not in d.keys():\n",
    "    print(-1)\n",
    "  else:\n",
    "    print(\" \".join(d[k]))\n"
   ]
  },
  {
   "cell_type": "markdown",
   "metadata": {
    "id": "mqp45cSUD9OT"
   },
   "source": [
    "#### collections.Counter()\n",
    "\n",
    "\n"
   ]
  },
  {
   "cell_type": "code",
   "execution_count": null,
   "metadata": {
    "id": "gow1bavuD9bz"
   },
   "outputs": [],
   "source": [
    "from collections import Counter\n",
    "\n",
    "X = int(input())\n",
    "\n",
    "shoes = Counter(map(int, input().split()))\n",
    "\n",
    "customers = int(input())\n",
    "\n",
    "income = 0\n",
    "for i in range(customers):\n",
    "    size, prize = map(int, input().split())\n",
    "    \n",
    "    if shoes[size] > 0:\n",
    "        shoes[size] = shoes[size] -1\n",
    "        income = income + prize\n",
    "\n",
    "print(income)"
   ]
  },
  {
   "cell_type": "markdown",
   "metadata": {
    "id": "p7SRYRc-4oxI"
   },
   "source": [
    "#### Collections.namedtuple()"
   ]
  },
  {
   "cell_type": "code",
   "execution_count": null,
   "metadata": {
    "id": "l3QIZ7k6GBKm"
   },
   "outputs": [],
   "source": [
    "from collections import namedtuple\n",
    "d = {\"ID\": [], \"MARKS\": [], \"NAME\": [], \"CLASS\": []}\n",
    "N = int(input())\n",
    "columns = list(input().split())\n",
    "for i in range(N):\n",
    "  entry = list(input().split())\n",
    "  for i in range(len(entry)):\n",
    "    if columns[i] != \"NAME\":\n",
    "      d[columns[i]].append(int(entry[i]))\n",
    "    else:\n",
    "      d[columns[i]].append(entry[i])\n",
    "  \n",
    "Students = namedtuple(\"Students\", \"ID MARKS NAME CLASS\")\n",
    "stds = Students(d[\"ID\"], d[\"MARKS\"], d[\"NAME\"], d[\"CLASS\"])\n",
    "\n",
    "print(\"{0:.2f}\".format(sum(stds.MARKS)/N))"
   ]
  },
  {
   "cell_type": "markdown",
   "metadata": {
    "id": "TGjMZ_h26h86"
   },
   "source": [
    "#### Collections.OrderedDict()\n"
   ]
  },
  {
   "cell_type": "code",
   "execution_count": null,
   "metadata": {
    "id": "herzZ2YQMjgc"
   },
   "outputs": [],
   "source": [
    "from collections import OrderedDict\n",
    "product = {}\n",
    "\n",
    "N = int(input())\n",
    "\n",
    "for i in range(N):\n",
    "  line = input().split()\n",
    "  x = \" \".join(line[:-1])\n",
    "  if x not in product.keys():\n",
    "    product[x] = int(line[-1])\n",
    "  else:\n",
    "    product[x] += int(line[-1])\n",
    "\n",
    "for key in product.keys():\n",
    "  print(key, product[key])"
   ]
  },
  {
   "cell_type": "markdown",
   "metadata": {
    "id": "1k-voE6ReRv4"
   },
   "source": [
    "#### Word Order"
   ]
  },
  {
   "cell_type": "code",
   "execution_count": null,
   "metadata": {
    "id": "wxY881f8ZUgx"
   },
   "outputs": [],
   "source": [
    "from collections import Counter\n",
    "N = int(input())\n",
    "\n",
    "L = []\n",
    "for i in range(N):\n",
    "    L.append(input())\n",
    "\n",
    "count = Counter(L)\n",
    "s = \"\"\n",
    "for k in count.keys():\n",
    "    s = s + str(count[k]) + \" \"\n",
    "    \n",
    "print(len(count))\n",
    "print(s)"
   ]
  },
  {
   "cell_type": "markdown",
   "metadata": {
    "id": "zKxcgiZv9TDW"
   },
   "source": [
    "#### Collections.deque()\n"
   ]
  },
  {
   "cell_type": "code",
   "execution_count": null,
   "metadata": {
    "id": "jnZ23TaD9TXt"
   },
   "outputs": [],
   "source": [
    "from collections import deque\n",
    "\n",
    "d = deque()\n",
    "\n",
    "N = int(input())\n",
    "\n",
    "for i in range(N):\n",
    "    line = input().split()\n",
    "\n",
    "    if line[0] == \"append\":\n",
    "        d.append(line[1])\n",
    "    if line[0] == \"pop\":\n",
    "        d.pop()\n",
    "    if line[0] == \"popleft\":\n",
    "        d.popleft()\n",
    "    if line[0] == \"appendleft\":\n",
    "        d.appendleft(line[1])\n",
    "        \n",
    "x = \"\"\n",
    "for el in d:\n",
    "  x += el + \" \"\n",
    "print(x)"
   ]
  },
  {
   "cell_type": "markdown",
   "metadata": {
    "id": "b_SIc-azaNoa"
   },
   "source": [
    "#### Company Logo\n"
   ]
  },
  {
   "cell_type": "code",
   "execution_count": null,
   "metadata": {
    "id": "HCFCKnCEQAia"
   },
   "outputs": [],
   "source": [
    "from collections import Counter\n",
    "\n",
    "if __name__ == '__main__':\n",
    "    s = input()\n",
    "    d = []\n",
    "    d.extend(s)\n",
    "    d.sort()\n",
    "    for el in Counter(d).most_common(3):\n",
    "      print(el[0] + \" \" + str(el[1]))"
   ]
  },
  {
   "cell_type": "markdown",
   "metadata": {
    "id": "QD3i7Ys_Js8H"
   },
   "source": [
    "#### Piling Up! (Wrong)\n"
   ]
  },
  {
   "cell_type": "code",
   "execution_count": null,
   "metadata": {
    "id": "J7psh30xlLb5"
   },
   "outputs": [],
   "source": [
    "def isimpilible(l):\n",
    "  tower = []\n",
    "  if l[0] < l[-1]:\n",
    "    tower.append(l[-1])\n",
    "    l = l[:-1]\n",
    "  elif l[0] > l[-1]:\n",
    "    tower.append(l[0])\n",
    "    l= l[1:]\n",
    "  else:\n",
    "    tower.append(l[0])\n",
    "    l= l[1:]\n",
    "    l= l[:-1]\n",
    "\n",
    "  while len(l) > 0:\n",
    "    if l[0] < l[-1]:\n",
    "      if tower[-1] < l[1]:\n",
    "        return \"No\"\n",
    "      else:\n",
    "        tower.append(l[-1])\n",
    "        l= l[:-1]\n",
    "    elif l[0] > l[-1]:\n",
    "      if tower[-1] < l[0]:\n",
    "        return \"No\"\n",
    "      else:\n",
    "        tower.append(l[0])\n",
    "        l= l[1:]\n",
    "    else:\n",
    "      if tower[-1] < l[0]:\n",
    "        return \"No\"\n",
    "      else:\n",
    "        tower.append(l[0])\n",
    "        l= l[:-1]\n",
    "        l= l[1:]\n",
    "  return \"Yes\"\n",
    "  \n",
    "\n",
    "\n",
    "N = int(input())\n",
    "for i in range(N):\n",
    "  m = int(input())\n",
    "  line = list(map(int, input().split()))\n",
    "  print(isimpilible(line))"
   ]
  },
  {
   "cell_type": "markdown",
   "metadata": {
    "id": "cE-mL7vTnRWo"
   },
   "source": [
    "# Date and Time"
   ]
  },
  {
   "cell_type": "markdown",
   "metadata": {
    "id": "RkW1g9N1nO2q"
   },
   "source": [
    "#### Calendar Module\n"
   ]
  },
  {
   "cell_type": "code",
   "execution_count": null,
   "metadata": {
    "id": "D0iszAHgndmn"
   },
   "outputs": [],
   "source": [
    "import calendar\n",
    "Days = [day.upper() for day in calendar.day_name]\n",
    "line = list(map(int, input().split()))\n",
    "i = calendar.weekday(line[2], line[0], line[1])\n",
    "print(Days[i])"
   ]
  },
  {
   "cell_type": "markdown",
   "metadata": {
    "id": "MnU4sOTaJsfR"
   },
   "source": [
    "#### Time Delta\n"
   ]
  },
  {
   "cell_type": "code",
   "execution_count": null,
   "metadata": {
    "id": "bqigoWiUwTxz"
   },
   "outputs": [],
   "source": [
    "import math\n",
    "from datetime import datetime\n",
    "\n",
    "N = int(input())\n",
    "\n",
    "for i in range(N):\n",
    "  d1 = datetime.strptime(input(), \"%a %d %b %Y %H:%M:%S %z\").timestamp()\n",
    "  d2 = datetime.strptime(input(), \"%a %d %b %Y %H:%M:%S %z\").timestamp()\n",
    "\n",
    "  print(int(math.sqrt((d2-d1)**2)))"
   ]
  },
  {
   "cell_type": "markdown",
   "metadata": {
    "id": "WLPfkqfFJlZm"
   },
   "source": [
    "# Exceptions"
   ]
  },
  {
   "cell_type": "markdown",
   "metadata": {
    "id": "S7wTZri6Jl3i"
   },
   "source": [
    "#### Exceptions"
   ]
  },
  {
   "cell_type": "code",
   "execution_count": null,
   "metadata": {
    "id": "RcyO6IWS9j-R"
   },
   "outputs": [],
   "source": [
    "N = int(input())\n",
    "\n",
    "for i in range(N):\n",
    "    a, b = input().split()\n",
    "\n",
    "    try:\n",
    "        print(int(a)//int(b))\n",
    "    except Exception as e:\n",
    "        print(\"Error Code:\", e)"
   ]
  },
  {
   "cell_type": "markdown",
   "metadata": {
    "id": "4BWdrSl9Q7Pj"
   },
   "source": [
    "#Built-Ins \n"
   ]
  },
  {
   "cell_type": "markdown",
   "metadata": {
    "id": "5s3_dRW-RAWS"
   },
   "source": [
    "#### Zipped!"
   ]
  },
  {
   "cell_type": "code",
   "execution_count": null,
   "metadata": {
    "id": "dcVCOMA3Nxdm"
   },
   "outputs": [],
   "source": [
    "N, M = input().split()\n",
    "X = []\n",
    "\n",
    "for i in range(int(M)):\n",
    "    X.append(list(map(float, input().split())))\n",
    "\n",
    "A = list(zip(*X))\n",
    "for i in range(int(N)):\n",
    "    print(\"{0:.1f}\".format(sum(A[i])/len(A[i])))\n"
   ]
  },
  {
   "cell_type": "markdown",
   "metadata": {
    "id": "EigQCYXGRC-q"
   },
   "source": [
    "#### Athlete Sort"
   ]
  },
  {
   "cell_type": "code",
   "execution_count": null,
   "metadata": {
    "id": "hm9d0HRTRSG-"
   },
   "outputs": [],
   "source": [
    "if __name__ == '__main__':\n",
    "    N, M = input().split()\n",
    "\n",
    "    N = int(N)\n",
    "    M = int(M)\n",
    "\n",
    "    L = []\n",
    "\n",
    "    for _ in range(N):\n",
    "        L.append(list(map(int, input().rstrip().split())))\n",
    "\n",
    "    k = int(input())\n",
    "\n",
    "    L.sort(key = lambda x: x[k])\n",
    "\n",
    "    for el in L:\n",
    "      print(\" \".join(map(str, el)))"
   ]
  },
  {
   "cell_type": "markdown",
   "metadata": {
    "id": "wT4SxFcPuIox"
   },
   "source": [
    "#### ginortS\n"
   ]
  },
  {
   "cell_type": "code",
   "execution_count": null,
   "metadata": {
    "id": "wOWjnbSWugOA"
   },
   "outputs": [],
   "source": [
    "l=[] \n",
    "l[:0]= input()\n",
    "l.sort()\n",
    "odd, even, low, upp = [], [], [], []\n",
    "for el in l:\n",
    "  if el.isdigit():\n",
    "    if int(el)%2 == 0:\n",
    "      even.append(el)\n",
    "    else:\n",
    "      odd.append(el)\n",
    "  elif el.isupper():\n",
    "    upp.append(el)\n",
    "  elif el.islower():\n",
    "    low.append(el)\n",
    "  \n",
    "l = low + upp + odd + even\n",
    "print(\"\".join(l))"
   ]
  },
  {
   "cell_type": "markdown",
   "metadata": {
    "id": "RaZDVJM6zRO9"
   },
   "source": [
    "# Python Functionals"
   ]
  },
  {
   "cell_type": "markdown",
   "metadata": {
    "id": "QgQMvUA-zZFz"
   },
   "source": [
    "#### Map and Lambda Function"
   ]
  },
  {
   "cell_type": "code",
   "execution_count": null,
   "metadata": {
    "colab": {
     "base_uri": "https://localhost:8080/",
     "height": 34
    },
    "executionInfo": {
     "elapsed": 700,
     "status": "ok",
     "timestamp": 1603143669616,
     "user": {
      "displayName": "Mirko Lozzi",
      "photoUrl": "https://lh3.googleusercontent.com/-3gkZdKUMw4k/AAAAAAAAAAI/AAAAAAAAAD4/M4-WTTKDI50/s64/photo.jpg",
      "userId": "09375348163510451061"
     },
     "user_tz": -120
    },
    "id": "FC3E3p3ZzYhT",
    "outputId": "650355c3-4245-4b11-9f0d-0b021b19614e"
   },
   "outputs": [
    {
     "data": {
      "text/plain": [
       "27"
      ]
     },
     "execution_count": 38,
     "metadata": {
      "tags": []
     },
     "output_type": "execute_result"
    }
   ],
   "source": [
    "cube = lambda x: x**3 \n",
    "\n",
    "def fibonacci(n):\n",
    "    l = [0, 1]\n",
    "\n",
    "    for i in range(n-2):\n",
    "        l.append(sum(l[-2:]))\n",
    "    \n",
    "    return l[:n]\n",
    "\n",
    "if __name__ == '__main__':\n",
    "    n = int(input())\n",
    "    print(list(map(cube, fibonacci(n))))"
   ]
  },
  {
   "cell_type": "markdown",
   "metadata": {
    "id": "q7S-1WSx3T6w"
   },
   "source": [
    "# Regex and Parsing challenges\n"
   ]
  },
  {
   "cell_type": "markdown",
   "metadata": {
    "id": "Sm97IlO83ZK3"
   },
   "source": [
    "#### Detect Floating Point Number\n"
   ]
  },
  {
   "cell_type": "code",
   "execution_count": null,
   "metadata": {
    "id": "ol9UbBP56QBD"
   },
   "outputs": [],
   "source": [
    "import re\n",
    "\n",
    "N = int(input())\n",
    "\n",
    "for i in range(N):\n",
    "    result = re.match('^[+-]?\\d*\\.[0-9]*$', input())\n",
    "    if result:\n",
    "        print('True')\n",
    "    else:\n",
    "        print('False')"
   ]
  },
  {
   "cell_type": "markdown",
   "metadata": {
    "id": "nrsUVF5EHsCM"
   },
   "source": [
    "#### Re.split()"
   ]
  },
  {
   "cell_type": "code",
   "execution_count": null,
   "metadata": {
    "id": "bpg_wya04Z0I"
   },
   "outputs": [],
   "source": [
    "regex_pattern = r\",|\\.\"\t\n",
    "\n",
    "import re\n",
    "print(\"\\n\".join(re.split(regex_pattern, input())))"
   ]
  },
  {
   "cell_type": "markdown",
   "metadata": {
    "id": "xhzjl_3lBHya"
   },
   "source": [
    "#### Group(), Groups() & Groupdict()\n"
   ]
  },
  {
   "cell_type": "code",
   "execution_count": null,
   "metadata": {
    "id": "JQHT2ayeQ7Ow"
   },
   "outputs": [],
   "source": [
    "import re\n",
    "m = re.search(r'(([a-zA-Z0-1])\\2{1,})', input())\n",
    "if m==None:\n",
    "  print(-1)\n",
    "else:\n",
    "  print(m.groups()[1])"
   ]
  },
  {
   "cell_type": "markdown",
   "metadata": {
    "id": "sOPv-M_gxeO_"
   },
   "source": [
    "#### Re.findall() & Re.finditer()\n",
    "\n"
   ]
  },
  {
   "cell_type": "code",
   "execution_count": null,
   "metadata": {
    "id": "5iHgtgSZxdSS"
   },
   "outputs": [],
   "source": [
    "import re \n",
    "s = input()\n",
    "m_1 = list(map(lambda x: x[0][:-1], re.findall(r'(([aeiouAEIOU]{2,})[^aeiouAEIOU])', s)))\n",
    "m_2 = list(map(lambda x: x[0][1:], re.findall(r'([^aeiouAEIOU]([aeiouAEIOU]{2,}))', s)))\n",
    "\n",
    "for el in m_1:\n",
    "  if el in m_2:\n",
    "    print(el)\n",
    "\n",
    "if len(m_1) == 0 or len(m_2) ==0:\n",
    "    print(-1)"
   ]
  },
  {
   "cell_type": "markdown",
   "metadata": {
    "id": "imZ2TSiYCtyd"
   },
   "source": [
    "#### Re.start() & Re.end()\n"
   ]
  },
  {
   "cell_type": "code",
   "execution_count": null,
   "metadata": {
    "id": "p6cxGVCxMMro"
   },
   "outputs": [],
   "source": [
    "import re\n",
    "s_1 = input()\n",
    "s_2 = input()\n",
    "import re\n",
    "Pattern = re.compile(s_2)\n",
    "m = Pattern.search(s_1)\n",
    "if m:\n",
    "  while m:\n",
    "    print((m.start(), m.end()-1))\n",
    "    m = Pattern.search(s_1, m.start()+1)\n",
    "else:\n",
    "  print((-1,-1))"
   ]
  },
  {
   "cell_type": "markdown",
   "metadata": {
    "id": "-tv8Agt0XoEX"
   },
   "source": [
    "#### Regex Substitution"
   ]
  },
  {
   "cell_type": "code",
   "execution_count": null,
   "metadata": {
    "colab": {
     "base_uri": "https://localhost:8080/",
     "height": 34
    },
    "executionInfo": {
     "elapsed": 1085,
     "status": "ok",
     "timestamp": 1603388482395,
     "user": {
      "displayName": "Mirko Lozzi",
      "photoUrl": "https://lh3.googleusercontent.com/-3gkZdKUMw4k/AAAAAAAAAAI/AAAAAAAAAD4/M4-WTTKDI50/s64/photo.jpg",
      "userId": "09375348163510451061"
     },
     "user_tz": -120
    },
    "id": "30eki0KtXNaI",
    "outputId": "5ed04975-d4cb-41db-92b8-85545ea4bc7e"
   },
   "outputs": [
    {
     "name": "stdout",
     "output_type": "stream",
     "text": [
      " &&\n"
     ]
    }
   ],
   "source": [
    "import re\n",
    "\n",
    "def substitution(s):\n",
    "  if s == \"&&\":\n",
    "    return \"and\"\n",
    "  elif s == \"||\":\n",
    "    return \"or\"\n",
    "\n",
    "\n",
    "print(re.sub(r'\\&\\',substitution, ' &&' ))"
   ]
  },
  {
   "cell_type": "code",
   "execution_count": null,
   "metadata": {
    "id": "9BRYn3WMYIbW"
   },
   "outputs": [],
   "source": []
  },
  {
   "cell_type": "markdown",
   "metadata": {
    "id": "LOOxQlVYqO7W"
   },
   "source": [
    "# XML"
   ]
  },
  {
   "cell_type": "markdown",
   "metadata": {
    "id": "p2oayMyW5htG"
   },
   "source": [
    "#### XML 1 - Find the Score\n",
    "\n"
   ]
  },
  {
   "cell_type": "code",
   "execution_count": null,
   "metadata": {
    "id": "XdpOx52TqRFl"
   },
   "outputs": [],
   "source": [
    "import sys\n",
    "import xml.etree.ElementTree as etree\n",
    "\n",
    "def get_attr_number(node):\n",
    "    count = 0\n",
    "    for el in root.getiterator():\n",
    "        count += len(el.attrib)\n",
    "    return count\n",
    "\n",
    "if __name__ == '__main__':\n",
    "    sys.stdin.readline()\n",
    "    xml = sys.stdin.read()\n",
    "    tree = etree.ElementTree(etree.fromstring(xml))\n",
    "    root = tree.getroot()\n",
    "    print(get_attr_number(root))"
   ]
  },
  {
   "cell_type": "markdown",
   "metadata": {
    "id": "ILXPazWT5YKE"
   },
   "source": [
    "#### XML2 - Find the Maximum Depth"
   ]
  },
  {
   "cell_type": "code",
   "execution_count": null,
   "metadata": {
    "id": "QANetyeNw1S3"
   },
   "outputs": [],
   "source": [
    "mport xml.etree.ElementTree as etree\n",
    "\n",
    "maxdepth = 0\n",
    "def depth(elem, level):\n",
    "    global maxdepth\n",
    "    if maxdepth == level:\n",
    "      maxdepth += 1\n",
    "\n",
    "    for child in elem:\n",
    "      depth(child, level + 1)\n",
    "    \n",
    "\n",
    "if __name__ == '__main__':\n",
    "    n = int(input())\n",
    "    xml = \"\"\n",
    "    for i in range(n):\n",
    "        xml =  xml + input() + \"\\n\"\n",
    "    tree = etree.ElementTree(etree.fromstring(xml))\n",
    "    depth(tree.getroot(), -1)\n",
    "    print(maxdepth)"
   ]
  },
  {
   "cell_type": "markdown",
   "metadata": {
    "id": "qkkcJe_3ocUI"
   },
   "source": [
    "# Closures and Decorations"
   ]
  },
  {
   "cell_type": "markdown",
   "metadata": {
    "id": "XMemz35Moi9v"
   },
   "source": [
    "#### Standardize Mobile Number Using Decorators\n",
    "\n"
   ]
  },
  {
   "cell_type": "code",
   "execution_count": null,
   "metadata": {
    "id": "yRxRcTg9igvt"
   },
   "outputs": [],
   "source": [
    "def wrapper(f):\n",
    "    def fun(l):\n",
    "        L = []\n",
    "        for el in l:\n",
    "          L.append('+91' + ' ' + str(el[-10:])[:5] + ' ' + str(el[-10:])[5:])\n",
    "        return f(L)\n",
    "    return fun\n",
    "\n",
    "@wrapper\n",
    "def sort_phone(l):\n",
    "    print(*sorted(l), sep='\\n')\n",
    "\n",
    "if __name__ == '__main__':\n",
    "    l = [input() for _ in range(int(input()))]\n",
    "    sort_phone(l) "
   ]
  },
  {
   "cell_type": "markdown",
   "metadata": {
    "id": "DmPeZSXrcTex"
   },
   "source": [
    "#### Decorators 2 - Name Directory (Wrong)\n"
   ]
  },
  {
   "cell_type": "code",
   "execution_count": null,
   "metadata": {
    "colab": {
     "base_uri": "https://localhost:8080/",
     "height": 163
    },
    "executionInfo": {
     "elapsed": 18356,
     "status": "ok",
     "timestamp": 1603610376215,
     "user": {
      "displayName": "Mirko Lozzi",
      "photoUrl": "https://lh3.googleusercontent.com/-3gkZdKUMw4k/AAAAAAAAAAI/AAAAAAAAAD4/M4-WTTKDI50/s64/photo.jpg",
      "userId": "09375348163510451061"
     },
     "user_tz": -60
    },
    "id": "p5REspQEZmMr",
    "outputId": "0566f8ab-2efd-4bba-e926-cc2e16b8e82b"
   },
   "outputs": [],
   "source": [
    "import operator\n",
    "\n",
    "def person_lister(f):\n",
    "    def inner(people):\n",
    "        L = []\n",
    "        people.sort(key= lambda x: x[2])\n",
    "        print(people)\n",
    "        for person in people:\n",
    "          L.append(f(person))\n",
    "        return L\n",
    "    return inner\n",
    "\n",
    "@person_lister\n",
    "def name_format(person):\n",
    "    return (\"Mr. \" if person[3] == \"M\" else \"Ms. \") + person[0] + \" \" + person[1]\n",
    "\n",
    "if __name__ == '__main__':\n",
    "    people = [input().split() for i in range(int(input()))]\n",
    "    print(*name_format(people), sep='\\n')"
   ]
  }
 ],
 "metadata": {
  "colab": {
   "name": "AMD.ipynb",
   "provenance": []
  },
  "kernelspec": {
   "display_name": "Python 3",
   "language": "python",
   "name": "python3"
  },
  "language_info": {
   "codemirror_mode": {
    "name": "ipython",
    "version": 3
   },
   "file_extension": ".py",
   "mimetype": "text/x-python",
   "name": "python",
   "nbconvert_exporter": "python",
   "pygments_lexer": "ipython3",
   "version": "3.7.3"
  }
 },
 "nbformat": 4,
 "nbformat_minor": 1
}
